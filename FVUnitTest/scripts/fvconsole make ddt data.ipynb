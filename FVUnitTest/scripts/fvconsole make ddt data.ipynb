{
 "cells": [
  {
   "cell_type": "code",
   "execution_count": 1,
   "metadata": {},
   "outputs": [],
   "source": [
    "import clipboard, os, shutil, random, json, lorem"
   ]
  },
  {
   "cell_type": "code",
   "execution_count": 2,
   "metadata": {},
   "outputs": [],
   "source": [
    "import hashlib\n",
    "def read(file, mode=\"rb\"):\n",
    "    with open(file, mode) as f:\n",
    "        return f.read()\n",
    "def hash(file):\n",
    "    return hashlib.sha256(read(file)).hexdigest()"
   ]
  },
  {
   "cell_type": "code",
   "execution_count": 3,
   "metadata": {},
   "outputs": [],
   "source": [
    "folder = 'C:\\\\Users\\\\Nathan\\\\Documents\\\\Personal\\\\test\\\\fvconsole_ddt_sourcefiles'\n",
    "os.chdir(folder)\n",
    "\n",
    "for i in range(10):\n",
    "    name = \"source%d.txt\"%(i+1)\n",
    "    with open(name, 'w') as f:\n",
    "        for i in range(5):\n",
    "            if i > 0: f.write(\"\\n\")\n",
    "            f.write(lorem.paragraph())\n",
    "\n",
    "files = os.listdir(\".\")\n",
    "for file in files:\n",
    "    print(\"%-20s %s\"%(file,hash(file)))"
   ]
  },
  {
   "cell_type": "code",
   "execution_count": 55,
   "metadata": {},
   "outputs": [],
   "source": [
    "def make_expect(filename, checksum):\n",
    "    with open(filename, 'w') as f:\n",
    "        f.write(checksum)\n",
    "\n",
    "def make_calc():\n",
    "    ddt_calc = 'C:\\\\Users\\\\Nathan\\\\Source\\\\Repos\\\\FileVerifier\\\\FVUnitTest\\\\data\\\\case\\\\calc'\n",
    "    for i, file in enumerate(os.listdir(),1):\n",
    "        \n",
    "        test_case = os.path.join(ddt_calc, \"test_basic%d\"%i)\n",
    "        inf = os.path.join(test_case, \"in.txt\")\n",
    "        expf = os.path.join(test_case, \"expect.txt\")\n",
    "        \n",
    "        os.makedirs(test_case, exist_ok=True)\n",
    "        shutil.copy2(file, inf)\n",
    "        \n",
    "        checksum = hash(file)\n",
    "        make_expect(expf, checksum)\n",
    "#make_calc()"
   ]
  },
  {
   "cell_type": "code",
   "execution_count": 56,
   "metadata": {},
   "outputs": [
    {
     "name": "stdout",
     "output_type": "stream",
     "text": [
      "Success\n",
      "Success\n",
      "Success\n"
     ]
    }
   ],
   "source": [
    "def rand3(files):\n",
    "    assert len(files) >= 3\n",
    "    chosen = set()\n",
    "    while (len(chosen) < 3):\n",
    "        choice = random.choice(files)\n",
    "        chosen.add(choice)\n",
    "    return chosen\n",
    "\n",
    "def jwrite(obj, file):\n",
    "    with open(file, 'w') as f:\n",
    "        json.dump(obj, f, indent=4)\n",
    "\n",
    "        \n",
    "def delfiles(folder):\n",
    "    try:\n",
    "        for file in os.listdir(folder):\n",
    "            fullpath = os.path.join(folder, file)\n",
    "            try:\n",
    "                os.remove(fullpath)\n",
    "            except (FileNotFoundError, PermissionError):\n",
    "                pass\n",
    "    except FileNotFoundError:\n",
    "        pass\n",
    "        \n",
    "def test_folder(root, name):\n",
    "    folder = os.path.join(root, name)\n",
    "    delfiles(folder)\n",
    "    os.makedirs(folder, exist_ok=True)\n",
    "    return folder\n",
    "        \n",
    "def make_data(test_case, chosen):\n",
    "    data = []\n",
    "    for file in chosen:\n",
    "        name, ext = os.path.splitext(file)\n",
    "        fdata = {\n",
    "            \"source\": file,\n",
    "            \"target\": name+\"_target\"+ext\n",
    "        }\n",
    "        data.append(fdata)\n",
    "    return data\n",
    "\n",
    "\n",
    "def make_expdata(data):\n",
    "    return {fdata[\"target\"]:hash(fdata[\"source\"]) for fdata in data}\n",
    "    \n",
    "def make_create():\n",
    "    ddt_create = 'C:\\\\Users\\\\Nathan\\\\Source\\\\Repos\\\\FileVerifier\\\\FVUnitTest\\\\data\\\\case\\\\create'\n",
    "    files = os.listdir()\n",
    "    for i in range(1,4):\n",
    "\n",
    "        chosen = rand3(files)\n",
    "        \n",
    "        # batch mode - no append\n",
    "        test_case = test_folder(ddt_create, \"test_batch_basic%d\"%i)\n",
    "        inf = os.path.join(test_case, \"in.json\")\n",
    "        expf = os.path.join(test_case, \"expect.json\")\n",
    "        outf = os.path.join(test_case, \"out.json\")\n",
    "        \n",
    "        data = make_data(test_case, chosen)\n",
    "        expdata = make_expdata(data)\n",
    "        \n",
    "        jwrite(data, inf)\n",
    "        jwrite(expdata, expf)\n",
    "        \n",
    "        for fdata in data:\n",
    "            source = fdata[\"source\"]\n",
    "            dst = os.path.join(test_case, source)\n",
    "            shutil.copy2(source, dst)\n",
    "            \n",
    "        # batch mode - append\n",
    "        test_case = test_folder(ddt_create, \"test_batch_append%d\"%i)\n",
    "        inf = os.path.join(test_case, \"in.json\")\n",
    "        expf = os.path.join(test_case, \"expect.json\")\n",
    "        outf = os.path.join(test_case, \"out.json\")\n",
    "        \n",
    "        predata = {\"foo\": \"bar\", \"random_filename\": \"random_hash\"}\n",
    "        \n",
    "        data = make_data(test_case, chosen)\n",
    "        expdata = make_expdata(data)\n",
    "        expdata.update(predata)\n",
    "        \n",
    "        jwrite(data, inf)\n",
    "        jwrite(expdata, expf)\n",
    "        jwrite(predata, outf)\n",
    "        \n",
    "        for fdata in data:\n",
    "            source = fdata[\"source\"]\n",
    "            dst = os.path.join(test_case, source)\n",
    "            shutil.copy2(source, dst)\n",
    "        \n",
    "        # single mode - append\n",
    "        test_case = test_folder(ddt_create, \"test_single_append%d\"%i)\n",
    "        inf = os.path.join(test_case, \"in.json\")\n",
    "        expf = os.path.join(test_case, \"expect.json\")\n",
    "        outf = os.path.join(test_case, \"out.json\")\n",
    "        tgtf = os.path.join(test_case, \"target.txt\")\n",
    "        \n",
    "        data = read(random.choice(files), 'r')\n",
    "        with open(tgtf, 'w') as f:\n",
    "            f.write(\"The contents of this file are unused - presence of file is used to indicate \")\n",
    "        with open(inf, 'w') as f:\n",
    "            f.write(data)\n",
    "        jwrite(predata, outf)\n",
    "        newexpdata = predata.copy()\n",
    "        newexpdata[\"target.txt\"] = hash(inf)\n",
    "        jwrite(newexpdata, expf)\n",
    "        print(\"Success\")\n",
    "#make_create()      \n",
    "        "
   ]
  },
  {
   "cell_type": "code",
   "execution_count": 57,
   "metadata": {},
   "outputs": [
    {
     "name": "stdout",
     "output_type": "stream",
     "text": [
      "Success\n",
      "Success\n",
      "Success\n"
     ]
    }
   ],
   "source": [
    "def make_verify():\n",
    "    ddt_verify = 'C:\\\\Users\\\\Nathan\\\\Source\\\\Repos\\\\FileVerifier\\\\FVUnitTest\\\\data\\\\case\\\\verify'\n",
    "    # batch mode\n",
    "    for i in range(3):\n",
    "        files = os.listdir()\n",
    "        chosen = rand3(files)\n",
    "        \n",
    "        data = {}\n",
    "        for file in chosen:\n",
    "            data[file] = hash(file)\n",
    "            \n",
    "        test_case = test_folder(ddt_verify, \"test_single%d\"%(i+1))\n",
    "        inf = os.path.join(test_case, \"in.json\")\n",
    "        jwrite(data, inf)\n",
    "        for source in chosen:\n",
    "            dst = os.path.join(test_case, source)\n",
    "            shutil.copy2(source, dst)\n",
    "        print(\"Success\")\n",
    "#make_verify()\n",
    "            "
   ]
  },
  {
   "cell_type": "code",
   "execution_count": 74,
   "metadata": {},
   "outputs": [],
   "source": [
    "def make_calc_ftp():\n",
    "    ddt_calc = 'C:\\\\Users\\\\Nathan\\\\Source\\\\Repos\\\\FileVerifier\\\\FVUnitTest\\\\data\\\\case\\\\calc'\n",
    "    for i, file in enumerate(os.listdir(),1):\n",
    "        if i > 2: break\n",
    "        test_case = os.path.join(ddt_calc, \"test_ftp%d\"%i)\n",
    "        inf = os.path.join(test_case, \"in.txt\")\n",
    "        expf = os.path.join(test_case, \"expect.txt\")\n",
    "        ftpf = os.path.join(test_case, \"ftp.txt\")\n",
    "        \n",
    "        os.makedirs(test_case, exist_ok=True)\n",
    "        shutil.copy2(file, inf)\n",
    "        with open(ftpf, 'w') as f:\n",
    "            f.write(\"ftp://%s:%s@%s/\"%(\"fvconsole_user\", \"uRttUR3MRsF4z6UUngZ3\", \"127.0.0.1\"))\n",
    "        checksum = hash(file)\n",
    "        make_expect(expf, checksum)\n",
    "        \n",
    "make_calc_ftp()"
   ]
  },
  {
   "cell_type": "code",
   "execution_count": 66,
   "metadata": {},
   "outputs": [],
   "source": [
    "from pyftpdlib.authorizers import DummyAuthorizer\n",
    "from pyftpdlib.handlers import FTPHandler\n",
    "from pyftpdlib.servers import FTPServer\n",
    "\n",
    "import threading\n",
    "class ServerThread(threading.Thread):\n",
    "    \n",
    "    @classmethod\n",
    "    def RunSingleTonOrWHatever(cls):\n",
    "        authorizer = DummyAuthorizer()\n",
    "#         authorizer.add_user(\"user\", \"12345\", \".\", perm=\"elradfmwMT\")\n",
    "        authorizer.add_anonymous(\".\")\n",
    "        authorizer.add_anonymous(\"./foofolder\")\n",
    "\n",
    "        handler = FTPHandler\n",
    "        handler.authorizer = authorizer\n",
    "        if hasattr(cls, \"server\"):\n",
    "            cls.server.close_all()\n",
    "        cls.server = FTPServer((\"127.0.0.1\", 21), handler)\n",
    "        cls.server.serve_forever()\n",
    "    def run(self):\n",
    "        self.RunSingleTonOrWHatever()\n",
    "\n",
    "    def stop(self):\n",
    "        self.__class__.server.close_all()\n",
    "        del self.__class__.server\n",
    "        self.join()\n",
    "    def __del__(self, *args):\n",
    "        try:\n",
    "            self.stop()\n",
    "        except:\n",
    "            pass\n"
   ]
  },
  {
   "cell_type": "code",
   "execution_count": 67,
   "metadata": {},
   "outputs": [
    {
     "name": "stderr",
     "output_type": "stream",
     "text": [
      "Exception in thread Thread-7:\n",
      "Traceback (most recent call last):\n",
      "  File \"c:\\program files\\python35\\lib\\threading.py\", line 914, in _bootstrap_inner\n",
      "    self.run()\n",
      "  File \"<ipython-input-66-856960aa7c71>\", line 22, in run\n",
      "    self.RunSingleTonOrWHatever()\n",
      "  File \"<ipython-input-66-856960aa7c71>\", line 13, in RunSingleTonOrWHatever\n",
      "    authorizer.add_anonymous(\"./foofolder\")\n",
      "  File \"c:\\program files\\python35\\lib\\site-packages\\pyftpdlib\\authorizers.py\", line 135, in add_anonymous\n",
      "    DummyAuthorizer.add_user(self, 'anonymous', '', homedir, **kwargs)\n",
      "  File \"c:\\program files\\python35\\lib\\site-packages\\pyftpdlib\\authorizers.py\", line 103, in add_user\n",
      "    raise ValueError('user %r already exists' % username)\n",
      "ValueError: user 'anonymous' already exists\n",
      "\n"
     ]
    },
    {
     "ename": "ConnectionRefusedError",
     "evalue": "[WinError 10061] No connection could be made because the target machine actively refused it",
     "output_type": "error",
     "traceback": [
      "\u001b[1;31m---------------------------------------------------------------------------\u001b[0m",
      "\u001b[1;31mConnectionRefusedError\u001b[0m                    Traceback (most recent call last)",
      "\u001b[1;32m<ipython-input-67-2db925de3ec1>\u001b[0m in \u001b[0;36m<module>\u001b[1;34m()\u001b[0m\n\u001b[0;32m      2\u001b[0m \u001b[0mthread\u001b[0m \u001b[1;33m=\u001b[0m \u001b[0mServerThread\u001b[0m\u001b[1;33m(\u001b[0m\u001b[1;33m)\u001b[0m\u001b[1;33m\u001b[0m\u001b[0m\n\u001b[0;32m      3\u001b[0m \u001b[0mthread\u001b[0m\u001b[1;33m.\u001b[0m\u001b[0mstart\u001b[0m\u001b[1;33m(\u001b[0m\u001b[1;33m)\u001b[0m\u001b[1;33m\u001b[0m\u001b[0m\n\u001b[1;32m----> 4\u001b[1;33m \u001b[0mftp\u001b[0m \u001b[1;33m=\u001b[0m \u001b[0mFTP\u001b[0m\u001b[1;33m(\u001b[0m\u001b[1;34m\"localhost\"\u001b[0m\u001b[1;33m)\u001b[0m\u001b[1;33m\u001b[0m\u001b[0m\n\u001b[0m\u001b[0;32m      5\u001b[0m \u001b[0mftp\u001b[0m\u001b[1;33m.\u001b[0m\u001b[0mlogin\u001b[0m\u001b[1;33m(\u001b[0m\u001b[1;33m)\u001b[0m\u001b[1;33m\u001b[0m\u001b[0m\n\u001b[0;32m      6\u001b[0m \u001b[0mftp\u001b[0m\u001b[1;33m.\u001b[0m\u001b[0mretrlines\u001b[0m\u001b[1;33m(\u001b[0m\u001b[1;34m'LIST'\u001b[0m\u001b[1;33m)\u001b[0m\u001b[1;33m\u001b[0m\u001b[0m\n",
      "\u001b[1;32mc:\\program files\\python35\\lib\\ftplib.py\u001b[0m in \u001b[0;36m__init__\u001b[1;34m(self, host, user, passwd, acct, timeout, source_address)\u001b[0m\n\u001b[0;32m    116\u001b[0m         \u001b[0mself\u001b[0m\u001b[1;33m.\u001b[0m\u001b[0mtimeout\u001b[0m \u001b[1;33m=\u001b[0m \u001b[0mtimeout\u001b[0m\u001b[1;33m\u001b[0m\u001b[0m\n\u001b[0;32m    117\u001b[0m         \u001b[1;32mif\u001b[0m \u001b[0mhost\u001b[0m\u001b[1;33m:\u001b[0m\u001b[1;33m\u001b[0m\u001b[0m\n\u001b[1;32m--> 118\u001b[1;33m             \u001b[0mself\u001b[0m\u001b[1;33m.\u001b[0m\u001b[0mconnect\u001b[0m\u001b[1;33m(\u001b[0m\u001b[0mhost\u001b[0m\u001b[1;33m)\u001b[0m\u001b[1;33m\u001b[0m\u001b[0m\n\u001b[0m\u001b[0;32m    119\u001b[0m             \u001b[1;32mif\u001b[0m \u001b[0muser\u001b[0m\u001b[1;33m:\u001b[0m\u001b[1;33m\u001b[0m\u001b[0m\n\u001b[0;32m    120\u001b[0m                 \u001b[0mself\u001b[0m\u001b[1;33m.\u001b[0m\u001b[0mlogin\u001b[0m\u001b[1;33m(\u001b[0m\u001b[0muser\u001b[0m\u001b[1;33m,\u001b[0m \u001b[0mpasswd\u001b[0m\u001b[1;33m,\u001b[0m \u001b[0macct\u001b[0m\u001b[1;33m)\u001b[0m\u001b[1;33m\u001b[0m\u001b[0m\n",
      "\u001b[1;32mc:\\program files\\python35\\lib\\ftplib.py\u001b[0m in \u001b[0;36mconnect\u001b[1;34m(self, host, port, timeout, source_address)\u001b[0m\n\u001b[0;32m    151\u001b[0m             \u001b[0mself\u001b[0m\u001b[1;33m.\u001b[0m\u001b[0msource_address\u001b[0m \u001b[1;33m=\u001b[0m \u001b[0msource_address\u001b[0m\u001b[1;33m\u001b[0m\u001b[0m\n\u001b[0;32m    152\u001b[0m         self.sock = socket.create_connection((self.host, self.port), self.timeout,\n\u001b[1;32m--> 153\u001b[1;33m                                              source_address=self.source_address)\n\u001b[0m\u001b[0;32m    154\u001b[0m         \u001b[0mself\u001b[0m\u001b[1;33m.\u001b[0m\u001b[0maf\u001b[0m \u001b[1;33m=\u001b[0m \u001b[0mself\u001b[0m\u001b[1;33m.\u001b[0m\u001b[0msock\u001b[0m\u001b[1;33m.\u001b[0m\u001b[0mfamily\u001b[0m\u001b[1;33m\u001b[0m\u001b[0m\n\u001b[0;32m    155\u001b[0m         \u001b[0mself\u001b[0m\u001b[1;33m.\u001b[0m\u001b[0mfile\u001b[0m \u001b[1;33m=\u001b[0m \u001b[0mself\u001b[0m\u001b[1;33m.\u001b[0m\u001b[0msock\u001b[0m\u001b[1;33m.\u001b[0m\u001b[0mmakefile\u001b[0m\u001b[1;33m(\u001b[0m\u001b[1;34m'r'\u001b[0m\u001b[1;33m,\u001b[0m \u001b[0mencoding\u001b[0m\u001b[1;33m=\u001b[0m\u001b[0mself\u001b[0m\u001b[1;33m.\u001b[0m\u001b[0mencoding\u001b[0m\u001b[1;33m)\u001b[0m\u001b[1;33m\u001b[0m\u001b[0m\n",
      "\u001b[1;32mc:\\program files\\python35\\lib\\socket.py\u001b[0m in \u001b[0;36mcreate_connection\u001b[1;34m(address, timeout, source_address)\u001b[0m\n\u001b[0;32m    709\u001b[0m \u001b[1;33m\u001b[0m\u001b[0m\n\u001b[0;32m    710\u001b[0m     \u001b[1;32mif\u001b[0m \u001b[0merr\u001b[0m \u001b[1;32mis\u001b[0m \u001b[1;32mnot\u001b[0m \u001b[1;32mNone\u001b[0m\u001b[1;33m:\u001b[0m\u001b[1;33m\u001b[0m\u001b[0m\n\u001b[1;32m--> 711\u001b[1;33m         \u001b[1;32mraise\u001b[0m \u001b[0merr\u001b[0m\u001b[1;33m\u001b[0m\u001b[0m\n\u001b[0m\u001b[0;32m    712\u001b[0m     \u001b[1;32melse\u001b[0m\u001b[1;33m:\u001b[0m\u001b[1;33m\u001b[0m\u001b[0m\n\u001b[0;32m    713\u001b[0m         \u001b[1;32mraise\u001b[0m \u001b[0merror\u001b[0m\u001b[1;33m(\u001b[0m\u001b[1;34m\"getaddrinfo returns an empty list\"\u001b[0m\u001b[1;33m)\u001b[0m\u001b[1;33m\u001b[0m\u001b[0m\n",
      "\u001b[1;32mc:\\program files\\python35\\lib\\socket.py\u001b[0m in \u001b[0;36mcreate_connection\u001b[1;34m(address, timeout, source_address)\u001b[0m\n\u001b[0;32m    700\u001b[0m             \u001b[1;32mif\u001b[0m \u001b[0msource_address\u001b[0m\u001b[1;33m:\u001b[0m\u001b[1;33m\u001b[0m\u001b[0m\n\u001b[0;32m    701\u001b[0m                 \u001b[0msock\u001b[0m\u001b[1;33m.\u001b[0m\u001b[0mbind\u001b[0m\u001b[1;33m(\u001b[0m\u001b[0msource_address\u001b[0m\u001b[1;33m)\u001b[0m\u001b[1;33m\u001b[0m\u001b[0m\n\u001b[1;32m--> 702\u001b[1;33m             \u001b[0msock\u001b[0m\u001b[1;33m.\u001b[0m\u001b[0mconnect\u001b[0m\u001b[1;33m(\u001b[0m\u001b[0msa\u001b[0m\u001b[1;33m)\u001b[0m\u001b[1;33m\u001b[0m\u001b[0m\n\u001b[0m\u001b[0;32m    703\u001b[0m             \u001b[1;32mreturn\u001b[0m \u001b[0msock\u001b[0m\u001b[1;33m\u001b[0m\u001b[0m\n\u001b[0;32m    704\u001b[0m \u001b[1;33m\u001b[0m\u001b[0m\n",
      "\u001b[1;31mConnectionRefusedError\u001b[0m: [WinError 10061] No connection could be made because the target machine actively refused it"
     ]
    }
   ],
   "source": [
    "from ftplib import FTP\n",
    "thread = ServerThread()\n",
    "thread.start()\n",
    "ftp = FTP(\"localhost\")\n",
    "ftp.login()\n",
    "ftp.retrlines('LIST')\n",
    "ftp.quit()\n",
    "thread.stop()"
   ]
  },
  {
   "cell_type": "code",
   "execution_count": 79,
   "metadata": {},
   "outputs": [
    {
     "name": "stdout",
     "output_type": "stream",
     "text": [
      "-rw-rw-rw-   1 owner    group        1106 Mar 06 01:37 ftp_host.py\n",
      "-rw-rw-rw-   1 owner    group        1601 Mar 05 00:38 launch_console.py\n",
      "-rw-rw-rw-   1 owner    group        2988 Mar 06 00:30 remote_console.py\n"
     ]
    },
    {
     "data": {
      "text/plain": [
       "'221 Goodbye.'"
      ]
     },
     "execution_count": 79,
     "metadata": {},
     "output_type": "execute_result"
    }
   ],
   "source": [
    "ftp = FTP(\"localhost\")\n",
    "ftp.login(\"fvconsole_user\", \"uRttUR3MRsF4z6UUngZ3\")\n",
    "ftp.retrlines('LIST')\n",
    "ftp.quit()"
   ]
  },
  {
   "cell_type": "code",
   "execution_count": null,
   "metadata": {},
   "outputs": [],
   "source": []
  }
 ],
 "metadata": {
  "kernelspec": {
   "display_name": "Python 3",
   "language": "python",
   "name": "python3"
  },
  "language_info": {
   "codemirror_mode": {
    "name": "ipython",
    "version": 3
   },
   "file_extension": ".py",
   "mimetype": "text/x-python",
   "name": "python",
   "nbconvert_exporter": "python",
   "pygments_lexer": "ipython3",
   "version": "3.5.2"
  }
 },
 "nbformat": 4,
 "nbformat_minor": 2
}
